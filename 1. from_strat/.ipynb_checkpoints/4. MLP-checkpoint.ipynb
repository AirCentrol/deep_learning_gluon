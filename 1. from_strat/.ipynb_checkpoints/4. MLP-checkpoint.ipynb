{
 "cells": [
  {
   "cell_type": "code",
   "execution_count": 1,
   "metadata": {
    "collapsed": true
   },
   "outputs": [],
   "source": [
    "from mxnet import init\n",
    "from mxnet import gluon\n",
    "from mxnet.gluon import nn\n",
    "import mxnet as mx\n",
    "import matplotlib.pyplot as plt\n",
    "import sys\n",
    "sys.path.append('..')\n",
    "from utils import *\n",
    "ctx = mx.gpu()"
   ]
  },
  {
   "cell_type": "code",
   "execution_count": 2,
   "metadata": {
    "collapsed": true
   },
   "outputs": [],
   "source": [
    "def relu(x):\n",
    "    return nd.maximum(x, 0)\n",
    "def net(x):\n",
    "    x = x.reshape((-1, inp))\n",
    "    h1 = relu(nd.dot(x, w1) + b1)\n",
    "    output = nd.dot(h1, w2) + b2\n",
    "    return output"
   ]
  },
  {
   "cell_type": "code",
   "execution_count": 3,
   "metadata": {
    "collapsed": true
   },
   "outputs": [],
   "source": [
    "n, inp, h, out = 50000, 3072, 128, 10\n",
    "batch_size = 256\n",
    "train_data, test_data = load_cifar(n, 10000, batch_size, route = '/home/sinyer/Python/data')"
   ]
  },
  {
   "cell_type": "code",
   "execution_count": 4,
   "metadata": {
    "collapsed": true
   },
   "outputs": [],
   "source": [
    "weight_scale = .01\n",
    "\n",
    "w1 = nd.random_normal(shape=(inp, h), scale=weight_scale, ctx=ctx)\n",
    "b1 = nd.zeros(h, ctx=ctx)\n",
    "w2 = nd.random_normal(shape=(h, out), scale=weight_scale, ctx=ctx)\n",
    "b2 = nd.zeros(out, ctx=ctx)\n",
    "\n",
    "params = [w1, b1, w2, b2]\n",
    "for param in params:\n",
    "    param.attach_grad()\n",
    "\n",
    "sce = gluon.loss.SoftmaxCrossEntropyLoss()"
   ]
  },
  {
   "cell_type": "code",
   "execution_count": 5,
   "metadata": {},
   "outputs": [
    {
     "name": "stdout",
     "output_type": "stream",
     "text": [
      "Epoch 0, Loss: 2.222483, Train acc 0.186256, Test acc 0.215039\n",
      "Epoch 20, Loss: 1.626557, Train acc 0.430624, Test acc 0.427344\n",
      "Epoch 40, Loss: 1.471771, Train acc 0.486587, Test acc 0.469629\n",
      "Epoch 60, Loss: 1.378557, Train acc 0.520468, Test acc 0.484180\n",
      "Epoch 80, Loss: 1.304644, Train acc 0.546568, Test acc 0.498145\n",
      "Epoch 100, Loss: 1.245298, Train acc 0.567909, Test acc 0.506250\n",
      "Epoch 120, Loss: 1.197330, Train acc 0.583685, Test acc 0.505762\n",
      "Epoch 140, Loss: 1.151630, Train acc 0.600889, Test acc 0.512500\n",
      "Epoch 160, Loss: 1.110750, Train acc 0.615159, Test acc 0.513184\n",
      "Epoch 180, Loss: 1.077080, Train acc 0.624326, Test acc 0.517773\n",
      "Epoch 200, Loss: 1.042467, Train acc 0.637711, Test acc 0.518457\n",
      "Epoch 220, Loss: 1.012757, Train acc 0.648589, Test acc 0.515625\n",
      "Epoch 240, Loss: 0.989108, Train acc 0.656641, Test acc 0.514941\n",
      "Epoch 260, Loss: 0.960268, Train acc 0.667112, Test acc 0.509570\n",
      "Epoch 280, Loss: 0.944737, Train acc 0.668917, Test acc 0.509473\n"
     ]
    },
    {
     "data": {
      "image/png": "[encoded data removed]",
      "text/plain": [
       "<matplotlib.figure.Figure at 0x7fd1e2af63c8>"
      ]
     },
     "metadata": {},
     "output_type": "display_data"
    }
   ],
   "source": [
    "lr = 0.01 / batch_size\n",
    "a = []\n",
    "b = []\n",
    "epochs = 300\n",
    "for epoch in range(epochs):\n",
    "    train_loss = 0.\n",
    "    train_acc = 0.\n",
    "    for data, label in train_data:\n",
    "        data = data.as_in_context(ctx)\n",
    "        label = label.as_in_context(ctx)\n",
    "        with autograd.record():\n",
    "            output = net(data)\n",
    "            loss = sce(output, label)\n",
    "        loss.backward()\n",
    "        for param in params:\n",
    "            param[:] = param - lr * param.grad\n",
    "        \n",
    "        train_loss += nd.mean(loss).asscalar()\n",
    "        train_acc += accuracy(output, label)\n",
    "    a.append(train_acc/len(train_data))\n",
    "    test_acc = evaluate_accuracy(test_data, net, ctx)\n",
    "    b.append(test_acc)\n",
    "    if epoch%20 == 0:\n",
    "        print(\"Epoch %d, Loss: %f, Train acc %f, Test acc %f\" % (\n",
    "            epoch, train_loss/len(train_data), \n",
    "            train_acc/len(train_data), test_acc))\n",
    "plt.plot(np.arange(0, epochs),a,np.arange(0, epochs),b)\n",
    "plt.ylim(0,1)\n",
    "plt.show()"
   ]
  },
  {
   "cell_type": "code",
   "execution_count": null,
   "metadata": {
    "collapsed": true
   },
   "outputs": [],
   "source": []
  }
 ],
 "metadata": {
  "kernelspec": {
   "display_name": "Python 3",
   "language": "python",
   "name": "python3"
  },
  "language_info": {
   "codemirror_mode": {
    "name": "ipython",
    "version": 3
   },
   "file_extension": ".py",
   "mimetype": "text/x-python",
   "name": "python",
   "nbconvert_exporter": "python",
   "pygments_lexer": "ipython3",
   "version": "3.6.3"
  }
 },
 "nbformat": 4,
 "nbformat_minor": 2
}
