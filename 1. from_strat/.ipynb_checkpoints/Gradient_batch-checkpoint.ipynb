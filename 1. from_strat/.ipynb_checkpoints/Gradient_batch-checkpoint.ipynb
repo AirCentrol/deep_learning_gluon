{
 "cells": [
  {
   "cell_type": "code",
   "execution_count": 1,
   "metadata": {},
   "outputs": [],
   "source": [
    "import numpy as np\n",
    "import matplotlib.pyplot as plt\n",
    "\n",
    "x = np.random.random((1000,2))\n",
    "\n",
    "w = np.array([[2.4],[3.9]])\n",
    "b = 4.2\n",
    "\n",
    "y = np.dot(x, w) + b\n",
    "y =  y + 0.1 * np.random.random(1000).reshape(1000,1)\n",
    "\n",
    "w_ = np.random.randn(2,1)\n",
    "b_ = 0"
   ]
  },
  {
   "cell_type": "code",
   "execution_count": 2,
   "metadata": {},
   "outputs": [
    {
     "name": "stdout",
     "output_type": "stream",
     "text": [
      "[[ 2.45786874]\n",
      " [ 3.92035926]] 4.20763262283 1.17801335691\n"
     ]
    },
    {
     "data": {
      "image/png": "[encoded data removed]",
      "text/plain": [
       "<matplotlib.figure.Figure at 0x1066a6080>"
      ]
     },
     "metadata": {},
     "output_type": "display_data"
    }
   ],
   "source": [
    "lr = 0.0001\n",
    "epochs = 200\n",
    "\n",
    "a = []\n",
    "batch = 10\n",
    "\n",
    "for e in range(epochs):\n",
    "    for i in range(int(len(x)/batch)):\n",
    "        x_ = x[batch*i : batch*(i+1)]\n",
    "        y_ = y[batch*i : batch*(i+1)]\n",
    "        _w = 0\n",
    "        _b = 0\n",
    "        for i in range(len(x_)):\n",
    "            _w = _w + 2 * x_[i] * (np.dot(x_[i], w_) + b_ - y_[i])\n",
    "            _b = _b + 2 * (np.dot(x_[i], w_) + b_ - y_[i]).sum()\n",
    "        _w = _w.reshape(2,1)\n",
    "        w_ = w_ - lr * _w\n",
    "        b_ = b_ - lr * _b\n",
    "    a.append(((np.dot(x, w_) + b_ - y)**2).sum())\n",
    "        \n",
    "print(w_, b_, a[-1])\n",
    "plt.plot(np.arange(0, epochs),a)\n",
    "plt.show()"
   ]
  },
  {
   "cell_type": "code",
   "execution_count": null,
   "metadata": {
    "collapsed": true
   },
   "outputs": [],
   "source": []
  }
 ],
 "metadata": {
  "kernelspec": {
   "display_name": "Python 3",
   "language": "python",
   "name": "python3"
  },
  "language_info": {
   "codemirror_mode": {
    "name": "ipython",
    "version": 3
   },
   "file_extension": ".py",
   "mimetype": "text/x-python",
   "name": "python",
   "nbconvert_exporter": "python",
   "pygments_lexer": "ipython3",
   "version": "3.6.2"
  }
 },
 "nbformat": 4,
 "nbformat_minor": 2
}
