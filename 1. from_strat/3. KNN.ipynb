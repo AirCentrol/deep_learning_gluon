{
 "cells": [
  {
   "cell_type": "code",
   "execution_count": 1,
   "metadata": {
    "collapsed": true
   },
   "outputs": [],
   "source": [
    "import numpy as np\n",
    "import sys\n",
    "sys.path.append('..')\n",
    "from utils import *"
   ]
  },
  {
   "cell_type": "code",
   "execution_count": 2,
   "metadata": {
    "collapsed": true
   },
   "outputs": [],
   "source": [
    "train_data, test_data = load_cifar(1000, 50, 50000, route = '/Users/Sinyer/Documents/Python/Data')\n",
    "for data, label in train_data:\n",
    "    train_data = data.asnumpy()\n",
    "    train_label = label.asnumpy()\n",
    "for data, label in test_data:\n",
    "    test_data = data.asnumpy()\n",
    "    test_label = label.asnumpy()"
   ]
  },
  {
   "cell_type": "code",
   "execution_count": 3,
   "metadata": {
    "collapsed": true
   },
   "outputs": [],
   "source": [
    "def change(train_data, test_data, i):\n",
    "    a = []\n",
    "    x = np.abs(train_data - test_data[i, :])\n",
    "    for j in range(len(x)):\n",
    "        a.append(np.sum(x[j]))\n",
    "    return a\n",
    "\n",
    "class NearestNeighbor(object):\n",
    "    def __init__(self):\n",
    "        pass\n",
    "    def train(self, train_data, train_label):\n",
    "        self.train_data = train_data\n",
    "        self.train_label = train_label\n",
    "    def predict(self, test_data):\n",
    "        test_num = test_data.shape[0]\n",
    "        pred_label = np.zeros(test_num, dtype=self.train_label.dtype)\n",
    "        for i in range(test_num):        \n",
    "            loss = change(train_data, test_data, i)\n",
    "            index = np.argmin(loss)\n",
    "            pred_label[i] = self.train_label[index] \n",
    "        return pred_label"
   ]
  },
  {
   "cell_type": "code",
   "execution_count": 4,
   "metadata": {},
   "outputs": [
    {
     "name": "stdout",
     "output_type": "stream",
     "text": [
      "accuracy: 0.220000\n"
     ]
    }
   ],
   "source": [
    "nn = NearestNeighbor()  \n",
    "nn.train(train_data, train_label)  \n",
    "test_predict = nn.predict(test_data)  \n",
    "\n",
    "print('accuracy: %f' % (np.mean(test_predict == test_label)))"
   ]
  },
  {
   "cell_type": "code",
   "execution_count": null,
   "metadata": {
    "collapsed": true
   },
   "outputs": [],
   "source": []
  }
 ],
 "metadata": {
  "kernelspec": {
   "display_name": "Python 3",
   "language": "python",
   "name": "python3"
  },
  "language_info": {
   "codemirror_mode": {
    "name": "ipython",
    "version": 3
   },
   "file_extension": ".py",
   "mimetype": "text/x-python",
   "name": "python",
   "nbconvert_exporter": "python",
   "pygments_lexer": "ipython3",
   "version": "3.6.2"
  }
 },
 "nbformat": 4,
 "nbformat_minor": 2
}
