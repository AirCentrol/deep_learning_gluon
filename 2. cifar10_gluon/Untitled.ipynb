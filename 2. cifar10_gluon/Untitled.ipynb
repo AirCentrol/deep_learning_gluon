{
 "cells": [
  {
   "cell_type": "code",
   "execution_count": 1,
   "metadata": {
    "collapsed": true
   },
   "outputs": [],
   "source": [
    "from mxnet import image\n",
    "import numpy as np\n",
    "from mxnet import nd\n",
    "import pickle as p\n",
    "from mxnet import gluon\n",
    "import matplotlib.pyplot as plt\n",
    "# def pic_aug(pic):\n",
    "#     pic = nd.array(pic)\n",
    "#     pic = nd.transpose(pic, (0, 2, 3, 1))\n",
    "#     auglist = image.CreateAugmenter(data_shape=(3, 32, 32), resize=36, rand_crop=True, rand_mirror=True)\n",
    "#     a = nd.zeros((len(pic),32,32,3))\n",
    "#     for i in range(len(pic)):\n",
    "#         im = pic[i]\n",
    "#         for aug in auglist:\n",
    "#             im = aug(im)\n",
    "#         a[i] = im\n",
    "#     a  = nd.transpose(a, (0, 3, 1, 2))\n",
    "#     return a"
   ]
  },
  {
   "cell_type": "code",
   "execution_count": 2,
   "metadata": {
    "collapsed": true
   },
   "outputs": [],
   "source": [
    "batch_size = 256\n",
    "train_num, test_num = 500, 100\n",
    "route='/Users/Sinyer/Documents/Python/Data'\n",
    "\n",
    "def load_CIFAR_batch(filename):\n",
    "    with open(filename, 'rb')as f:\n",
    "        data_dict = p.load(f, encoding='latin1')\n",
    "        X = data_dict['data']\n",
    "        Y = data_dict['labels']\n",
    "        X = X.reshape(10000, 3, 32,32).astype(\"float\")\n",
    "        Y = np.array(Y)\n",
    "        return X, Y\n",
    "def load_CIFAR_Labels(filename):\n",
    "    with open(filename, 'rb') as f:\n",
    "        label_names = p.load(f, encoding='latin1')\n",
    "        names = label_names['label_names']\n",
    "        return names\n",
    "label_names = load_CIFAR_Labels(route + \"/cifar-10-batches-py/batches.meta\")\n",
    "img_X1, img_Y1 = load_CIFAR_batch(route + \"/cifar-10-batches-py/data_batch_1\")\n",
    "img_X2, img_Y2 = load_CIFAR_batch(route + \"/cifar-10-batches-py/data_batch_2\")\n",
    "img_X3, img_Y3 = load_CIFAR_batch(route + \"/cifar-10-batches-py/data_batch_3\")\n",
    "img_X4, img_Y4 = load_CIFAR_batch(route + \"/cifar-10-batches-py/data_batch_4\")\n",
    "img_X5, img_Y5 = load_CIFAR_batch(route + \"/cifar-10-batches-py/data_batch_5\")\n",
    "test_pic, test_label = load_CIFAR_batch(route + \"/cifar-10-batches-py/test_batch\")\n",
    "train_pic = np.concatenate((img_X1, img_X2, img_X3, img_X4, img_X5))\n",
    "train_label = np.concatenate((img_Y1, img_Y2, img_Y3, img_Y4, img_Y5))"
   ]
  },
  {
   "cell_type": "code",
   "execution_count": 9,
   "metadata": {},
   "outputs": [
    {
     "name": "stdout",
     "output_type": "stream",
     "text": [
      "(10, 3, 32, 32)\n",
      "(10, 32, 32, 3)\n",
      "(10, 32, 32, 3)\n",
      "(10, 3, 32, 32)\n"
     ]
    }
   ],
   "source": [
    "%matplotlib inline\n",
    "a = train_pic[0:10]\n",
    "print(a.shape)\n",
    "def pic_aug(pic):\n",
    "    pic = nd.array(pic)\n",
    "    pic = nd.transpose(pic, (0, 2, 3, 1))\n",
    "    print(pic.shape)\n",
    "    auglist = image.CreateAugmenter(data_shape=(3, 32, 32), resize=36, rand_crop=True, rand_mirror=True)\n",
    "    a = nd.zeros((len(pic),32,32,3))\n",
    "    for i in range(len(pic)):\n",
    "        im = pic[i]\n",
    "        for aug in auglist:\n",
    "            im = aug(im)\n",
    "        a[i] = im\n",
    "    print(a.shape)\n",
    "    a  = nd.transpose(a, (0, 3, 1, 2))\n",
    "    return a\n",
    "b = pic_aug(a)\n",
    "print(b.shape)\n"
   ]
  },
  {
   "cell_type": "code",
   "execution_count": null,
   "metadata": {
    "collapsed": true
   },
   "outputs": [],
   "source": [
    "%matplotlib inline\n",
    "import matplotlib.pyplot as plt\n",
    "from mxnet import image\n",
    "\n",
    "img = train_pic[7]\n",
    "print(img.shape)\n",
    "im = img.transpose(1,2,0)"
   ]
  },
  {
   "cell_type": "code",
   "execution_count": null,
   "metadata": {
    "collapsed": true
   },
   "outputs": [],
   "source": [
    "img = nd.array(im)"
   ]
  },
  {
   "cell_type": "code",
   "execution_count": null,
   "metadata": {
    "collapsed": true
   },
   "outputs": [],
   "source": [
    "auglist = image.CreateAugmenter(data_shape=(3, 32, 32), pca_noise=0.001, resize=0, rand_crop=True, rand_mirror=True)\n",
    "for aug in auglist:\n",
    "    im = aug(img.astype('float32')/255)\n",
    "\n",
    "print(im.shape)\n",
    "# a  = im.transpose(2,0,1)\n",
    "plt.imshow(im.asnumpy())"
   ]
  },
  {
   "cell_type": "code",
   "execution_count": null,
   "metadata": {
    "collapsed": true
   },
   "outputs": [],
   "source": []
  },
  {
   "cell_type": "code",
   "execution_count": null,
   "metadata": {
    "collapsed": true
   },
   "outputs": [],
   "source": []
  }
 ],
 "metadata": {
  "kernelspec": {
   "display_name": "Python 3",
   "language": "python",
   "name": "python3"
  },
  "language_info": {
   "codemirror_mode": {
    "name": "ipython",
    "version": 3
   },
   "file_extension": ".py",
   "mimetype": "text/x-python",
   "name": "python",
   "nbconvert_exporter": "python",
   "pygments_lexer": "ipython3",
   "version": "3.6.2"
  }
 },
 "nbformat": 4,
 "nbformat_minor": 2
}
