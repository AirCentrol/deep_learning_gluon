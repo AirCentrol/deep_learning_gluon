{
 "cells": [
  {
   "cell_type": "code",
   "execution_count": 28,
   "metadata": {
    "collapsed": true
   },
   "outputs": [],
   "source": [
    "from mxnet import init\n",
    "from mxnet import gluon\n",
    "from mxnet.gluon import nn\n",
    "from mxnet import nd\n",
    "from mxnet import image\n",
    "from mxnet import autograd\n",
    "import numpy as np\n",
    "import pickle as p\n",
    "import mxnet as mx\n",
    "from time import time\n",
    "import matplotlib.pyplot as plt\n",
    "ctx = mx.gpu()"
   ]
  },
  {
   "cell_type": "code",
   "execution_count": 29,
   "metadata": {
    "collapsed": true
   },
   "outputs": [],
   "source": [
    "def pic_aug(pic):\n",
    "    pic = nd.array(pic)\n",
    "    pic = nd.transpose(pic, (0, 2, 3, 1))\n",
    "    auglist = image.CreateAugmenter(data_shape=(3, 32, 32), resize=36, rand_crop=True, rand_mirror=True)\n",
    "    a = nd.zeros((len(pic),32,32,3))\n",
    "    for i in range(len(pic)):\n",
    "        im = pic[i]\n",
    "        for aug in auglist:\n",
    "            im = aug(im)\n",
    "        a[i] = im\n",
    "    a  = nd.transpose(a, (0, 3, 1, 2))\n",
    "    return a\n",
    "\n",
    "def accuracy(output, label):\n",
    "    return nd.mean(output.argmax(axis=1)==label).asscalar()\n",
    "\n",
    "def evaluate_accuracy(data_iterator, net, ctx):\n",
    "    acc = 0.\n",
    "    for data, label in data_iterator:\n",
    "        data = data.as_in_context(ctx)\n",
    "        label = label.as_in_context(ctx)\n",
    "        output = net(data)\n",
    "        acc += accuracy(output, label)\n",
    "    return acc / len(data_iterator)\n",
    "\n",
    "class Residual(nn.Block):\n",
    "    def __init__(self, channels, same_shape=True, **kwargs):\n",
    "        super(Residual, self).__init__(**kwargs)\n",
    "        self.same_shape = same_shape\n",
    "        with self.name_scope():\n",
    "            strides = 1 if same_shape else 2\n",
    "            self.conv1 = nn.Conv2D(channels, kernel_size=3, padding=1, strides=strides)\n",
    "            self.bn1 = nn.BatchNorm()\n",
    "            self.conv2 = nn.Conv2D(channels, kernel_size=3, padding=1)\n",
    "            self.bn2 = nn.BatchNorm()\n",
    "            if not same_shape:\n",
    "                self.conv3 = nn.Conv2D(channels, kernel_size=1, strides=strides)\n",
    "    def forward(self, x):\n",
    "        out = nd.relu(self.bn1(self.conv1(x)))\n",
    "        out = self.bn2(self.conv2(out))\n",
    "        if not self.same_shape:\n",
    "            x = self.conv3(x)\n",
    "        return nd.relu(out + x)\n",
    "\n",
    "class ResNet(nn.Block):\n",
    "    def __init__(self, num_classes, **kwargs):\n",
    "        super(ResNet, self).__init__(**kwargs)\n",
    "        with self.name_scope(): \n",
    "            b1 = nn.Conv2D(16, kernel_size=3, strides=1, padding=1)\n",
    "            b2 = nn.Sequential()\n",
    "            for _ in range(8):\n",
    "                b2.add(Residual(16))\n",
    "            b3 = nn.Sequential()\n",
    "            b3.add(Residual(32, same_shape=False))\n",
    "            for _ in range(7):\n",
    "                b3.add(Residual(32))\n",
    "            b4 = nn.Sequential()\n",
    "            b4.add(Residual(64, same_shape=False))\n",
    "            for _ in range(7):\n",
    "                b4.add(Residual(64))\n",
    "            b5 = nn.Sequential()\n",
    "            b5.add(nn.AvgPool2D(pool_size=3),nn.Dense(num_classes))\n",
    "            self.net = nn.Sequential()\n",
    "            self.net.add(b1, b2, b3, b4, b5)\n",
    "    def forward(self, x):\n",
    "        out = x\n",
    "        for i, b in enumerate(self.net):\n",
    "            out = b(out)\n",
    "        return out"
   ]
  },
  {
   "cell_type": "code",
   "execution_count": 30,
   "metadata": {
    "collapsed": true
   },
   "outputs": [],
   "source": [
    "route = '/home/sinyer/Python/data'\n",
    "train_num = 50000\n",
    "test_num = 10000\n",
    "batch_size = 256\n",
    "def load_CIFAR_batch(filename):\n",
    "    with open(filename, 'rb')as f:\n",
    "        data_dict = p.load(f, encoding='latin1')\n",
    "        X = data_dict['data']\n",
    "        Y = data_dict['labels']\n",
    "        X = X.reshape(10000, 3, 32,32).astype(\"float\")\n",
    "        Y = np.array(Y)\n",
    "        return X, Y\n",
    "def load_CIFAR_Labels(filename):\n",
    "    with open(filename, 'rb') as f:\n",
    "        label_names = p.load(f, encoding='latin1')\n",
    "        names = label_names['label_names']\n",
    "        return names\n",
    "label_names = load_CIFAR_Labels(route + \"/cifar-10-batches-py/batches.meta\")\n",
    "img_X1, img_Y1 = load_CIFAR_batch(route + \"/cifar-10-batches-py/data_batch_1\")\n",
    "img_X2, img_Y2 = load_CIFAR_batch(route + \"/cifar-10-batches-py/data_batch_2\")\n",
    "img_X3, img_Y3 = load_CIFAR_batch(route + \"/cifar-10-batches-py/data_batch_3\")\n",
    "img_X4, img_Y4 = load_CIFAR_batch(route + \"/cifar-10-batches-py/data_batch_4\")\n",
    "img_X5, img_Y5 = load_CIFAR_batch(route + \"/cifar-10-batches-py/data_batch_5\")\n",
    "test_pic, test_label = load_CIFAR_batch(route + \"/cifar-10-batches-py/test_batch\")\n",
    "train_pic = np.concatenate((img_X1, img_X2, img_X3, img_X4, img_X5))\n",
    "train_label = np.concatenate((img_Y1, img_Y2, img_Y3, img_Y4, img_Y5))\n",
    "X = train_pic[:train_num,:].astype('float32')/255\n",
    "y = train_label[:train_num].astype('float32')\n",
    "X_ = test_pic[:test_num,:].astype('float32')/255\n",
    "y_ = test_label[:test_num].astype('float32')\n",
    "mean=np.array([0.4914, 0.4822, 0.4465])\n",
    "std=np.array([0.2023, 0.1994, 0.2010])\n",
    "for i in range(3):\n",
    "    X[:,:,:,i] = (X[:,:,:,i] - mean[i]) / std[i]\n",
    "    X_[:,:,:,i] = (X_[:,:,:,i] - mean[i]) / std[i]\n",
    "X = pic_aug(X)\n",
    "train_data = gluon.data.DataLoader(gluon.data.ArrayDataset(X, y), batch_size, shuffle=True)\n",
    "test_data = gluon.data.DataLoader(gluon.data.ArrayDataset(X_, y_), batch_size, shuffle=False)"
   ]
  },
  {
   "cell_type": "code",
   "execution_count": 31,
   "metadata": {
    "collapsed": true
   },
   "outputs": [],
   "source": [
    "net = ResNet(10)\n",
    "net.initialize(ctx=ctx, init=init.Xavier())\n",
    "loss = gluon.loss.SoftmaxCrossEntropyLoss()\n",
    "trainer = gluon.Trainer(net.collect_params(), 'sgd', {'learning_rate': 0.05, 'momentum': 0.9, 'wd': 5e-4})"
   ]
  },
  {
   "cell_type": "code",
   "execution_count": 32,
   "metadata": {},
   "outputs": [
    {
     "name": "stdout",
     "output_type": "stream",
     "text": [
      "Epoch 0, Loss: 4.258605, Train acc 0.080000, Test acc 0.200000, Time 2.739744\n",
      "Epoch 1, Loss: 10.149881, Train acc 0.160000, Test acc 0.300000, Time 2.756449\n",
      "Epoch 2, Loss: 31.281218, Train acc 0.100000, Test acc 0.200000, Time 2.681920\n"
     ]
    },
    {
     "data": {
      "image/png": "[encoded data removed]",
      "text/plain": [
       "<matplotlib.figure.Figure at 0x10b53ce80>"
      ]
     },
     "metadata": {},
     "output_type": "display_data"
    }
   ],
   "source": [
    "epochs = 80\n",
    "lr_period = 60\n",
    "lr_decay = 0.1\n",
    "\n",
    "a = []\n",
    "b = []\n",
    "for epoch in range(epochs):\n",
    "    if epoch > 0 and epoch % lr_period == 0:\n",
    "        trainer.set_learning_rate(trainer.learning_rate * lr_decay)\n",
    "    train_loss = 0.\n",
    "    train_acc = 0.\n",
    "    batch = 0\n",
    "    start = time()\n",
    "    for data, label in train_data:\n",
    "        data = pic_aug(data)\n",
    "        data = data.as_in_context(ctx)\n",
    "        label = label.as_in_context(ctx)\n",
    "        with autograd.record():\n",
    "            output = net(data)\n",
    "            L = loss(output, label)\n",
    "        L.backward()\n",
    "        trainer.step(data.shape[0])\n",
    "        train_loss += nd.mean(L).asscalar()\n",
    "        train_acc += accuracy(output, label)\n",
    "        batch += 1\n",
    "        if print_batches and batch % None == 0:\n",
    "            print(\"Batch %d, Loss: %f, Train acc %f\" % (batch, train_loss/batch, train_acc/batch))\n",
    "    a.append(train_acc/batch)\n",
    "    test_acc = evaluate_accuracy(test_data, net, ctx)\n",
    "    b.append(test_acc)\n",
    "    if epoch%1 == 0:\n",
    "        print(\"Epoch %d, Loss: %f, Train acc %f, Test acc %f, Time %f\" % (\n",
    "            epoch, train_loss/batch, train_acc/batch, test_acc, time() - start))\n",
    "plt.plot(np.arange(0, epochs),a,np.arange(0, epochs),b)\n",
    "plt.ylim(0, 1)\n",
    "plt.show()"
   ]
  },
  {
   "cell_type": "code",
   "execution_count": null,
   "metadata": {
    "collapsed": true
   },
   "outputs": [],
   "source": []
  }
 ],
 "metadata": {
  "kernelspec": {
   "display_name": "Python 3",
   "language": "python",
   "name": "python3"
  },
  "language_info": {
   "codemirror_mode": {
    "name": "ipython",
    "version": 3
   },
   "file_extension": ".py",
   "mimetype": "text/x-python",
   "name": "python",
   "nbconvert_exporter": "python",
   "pygments_lexer": "ipython3",
   "version": "3.6.2"
  }
 },
 "nbformat": 4,
 "nbformat_minor": 2
}
