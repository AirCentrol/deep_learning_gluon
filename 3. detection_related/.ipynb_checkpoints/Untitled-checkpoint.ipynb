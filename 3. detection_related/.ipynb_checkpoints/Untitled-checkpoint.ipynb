{
 "cells": [
  {
   "cell_type": "code",
   "execution_count": null,
   "metadata": {},
   "outputs": [],
   "source": [
    "from mxnet import gluon\n",
    "from mxnet import image\n",
    "from mxnet import nd\n",
    "from mxnet import nd\n",
    "from mxnet.contrib.ndarray import MultiBoxPrior"
   ]
  },
  {
   "cell_type": "code",
   "execution_count": null,
   "metadata": {
    "collapsed": true
   },
   "outputs": [],
   "source": [
    "root_url = ('https://apache-mxnet.s3-accelerate.amazonaws.com/''gluon/dataset/pikachu/')\n",
    "data_dir = '../data/pikachu/'\n",
    "dataset = {'train.rec': 'e6bcb6ffba1ac04ff8a9b1115e650af56ee969c8','train.idx': 'dcf7318b2602c06428b9988470c731621716c393','val.rec': 'd6c33f799b4d058e82f2cb5bd9a976f69d72d520'}\n",
    "for k, v in dataset.items():\n",
    "    gluon.utils.download(root_url+k, data_dir+k, sha1_hash=v)\n",
    "\n",
    "data_shape = 256\n",
    "batch_size = 32\n",
    "rgb_mean = nd.array([123, 117, 104])\n",
    "\n",
    "def get_iterators(data_shape, batch_size):\n",
    "    class_names = ['pikachu']\n",
    "    num_class = len(class_names)\n",
    "    train_iter = image.ImageDetIter(batch_size=batch_size,data_shape=(3, data_shape, data_shape),path_imgrec=data_dir+'train.rec',path_imgidx=data_dir+'train.idx',shuffle=True,mean=True,rand_crop=1,min_object_covered=0.95,max_attempts=200)\n",
    "    val_iter = image.ImageDetIter(batch_size=batch_size,data_shape=(3, data_shape, data_shape),path_imgrec=data_dir+'val.rec',shuffle=False,mean=True)\n",
    "    return train_iter, val_iter, class_names, num_class\n",
    "\n",
    "train_data, test_data, class_names, num_class = get_iterators(data_shape, batch_size)"
   ]
  },
  {
   "cell_type": "code",
   "execution_count": null,
   "metadata": {
    "collapsed": true
   },
   "outputs": [],
   "source": []
  }
 ],
 "metadata": {
  "kernelspec": {
   "display_name": "Python 3",
   "language": "python",
   "name": "python3"
  },
  "language_info": {
   "codemirror_mode": {
    "name": "ipython",
    "version": 3
   },
   "file_extension": ".py",
   "mimetype": "text/x-python",
   "name": "python",
   "nbconvert_exporter": "python",
   "pygments_lexer": "ipython3",
   "version": "3.6.2"
  }
 },
 "nbformat": 4,
 "nbformat_minor": 2
}
